{
 "cells": [
  {
   "cell_type": "markdown",
   "metadata": {},
   "source": [
    "## Linear Regression with PolyMath and Tensorflow\n",
    "The simplest form of linear regression is learning the parameters for a one-dimensional line. We will generate an artificial dataset using Polymath. This example is a traslation to Polymath from the python version included in the book \"Tensorflow for Deep learning\" by Ramsundar, Bharath, O'Reilly.\n",
    "<br/>\n",
    "Using PMLinearCongruentialRandomGenerator we will obtain a collection of uniformely distributed numbers between 0 and 1. This collection will be a subset of x from the domain set, we will use it to calculate the image subset.<br/> \n",
    "PMNormalDistribution generates a normal distributed collection of numbers arround the median and a standard deviation (noiseScale). We use this noise to add it to the bias component in the linear function = wTrue * x + (bTrue + noise)."
   ]
  },
  {
   "cell_type": "code",
   "execution_count": 7,
   "metadata": {},
   "outputs": [
    {
     "data": {},
     "execution_count": 7,
     "metadata": {},
     "output_type": "execute_result"
    }
   ],
   "source": [
    "N:= 100.\n",
    "wTrue := 5.0.\n",
    "bTrue := 2.0.\n",
    "noiseScale := 0.1.\n",
    "rg := PMLinearCongruentialRandomGenerator new.\n",
    "nd := PMNormalDistribution new:0 sigma:noiseScale.\n",
    "\"gets N random numbers as x\"\n",
    "x_np := (1 to:N) collect:[:n| rg next ]. \n",
    "\"gets N elements from a normal distribution\"\n",
    "noise :=(1 to:N) collect:[:n| nd random ]. \n",
    "y_np := (1 to:N) collect:[:n| (wTrue * (x_np at:n)) + (bTrue + (noise at:n))].\n",
    "\n",
    "toy := DataFrame fromColumns: (Array with:x_np with:y_np)."
   ]
  },
  {
   "cell_type": "markdown",
   "metadata": {},
   "source": [
    "Roassal is able to represent scatter plots diagrams from any type of collection. \n",
    "As you can see, we can easily represent a scatter plot from a DataFrame. "
   ]
  },
  {
   "cell_type": "code",
   "execution_count": 8,
   "metadata": {},
   "outputs": [
    {
     "data": {
      "image/png": "[encoded data removed]"
     },
     "execution_count": 8,
     "metadata": {
      "image/png": {
       "height": 400,
       "width": 640
      }
     },
     "output_type": "execute_result"
    }
   ],
   "source": [
    "b := RTGrapher new.\n",
    "b extent: 300 @ 300.\n",
    "ds := RTData new.\n",
    "ds dotShape size:8; color: Color red.\n",
    "ds points: toy.\n",
    "ds x:[:t| t at:1] .\n",
    "ds y: [ :t |t at:2 ].\n",
    "b add: ds.\n",
    "\n",
    "self display openInJupyter:b"
   ]
  },
  {
   "cell_type": "markdown",
   "metadata": {},
   "source": [
    "## Defining the Tensorflow graph\n",
    "Tensorflow calculations are expresed as a graph of operations, inputs and variables.<br/>\n",
    "We have to declare the inputs to the graph. Those inputs are called \"placeholders\", we define x and y placeholders to pass the collections of x and y inside a section called \"placeholders\". Because we are going to find the weight and bias for our linear function X*x + b, we declare weights and biases (W and b) as variables with a random initial value. Note that W and x is 2-dimensional so that we are able to calculate its matrix product otherwise tensorflow does not allows you to use the \"MathMul\" op. <br\\>\n",
    "Unluckly the C and C++ api for tensorflow does not support automatic differenciation yet, consequantly, pharo binding neither support it.<br/> \n",
    "We need to differentiate the loss function (squared error loss) and obtain the gradient  W and b, and apply them using #descent: on each variable<br/>\n",
    "The idea of gradient descent is to find the minima of functions by repeatedly following the negative gradient."
   ]
  },
  {
   "cell_type": "code",
   "execution_count": 17,
   "metadata": {},
   "outputs": [
    {
     "data": {},
     "execution_count": 17,
     "metadata": {},
     "output_type": "execute_result"
    }
   ],
   "source": [
    "learningRate := 0.0001 asTensor.\n",
    "graph := TF_Graph create.\n",
    "graph \n",
    "    fromBlock:[\n",
    "        x := graph placeholder: 'x' type: TF_Tensor typeFloat.\n",
    "        y := graph placeholder: 'y' type: TF_Tensor typeFloat]\n",
    "    named: 'placeholders'.\n",
    "    \n",
    "graph \n",
    "    fromBlock:[\n",
    "        W := graph \n",
    "                variable: 'weights' \n",
    "                initialValueFrom: (graph randomNormalShaped:{1. 1}).\n",
    "        b := graph \n",
    "                variable: 'base'\n",
    "                initialValueFrom: (graph randomNormalShaped:{1.})]\n",
    "    named:'weights'.\n",
    "\n",
    "y_pred :=graph \n",
    "      fromBlock:[\n",
    "                (W * x) + b]\n",
    "            named:'prediction'.\n",
    "            \n",
    "loss :=graph \n",
    "            fromBlock:[ \n",
    "            (y - y_pred) squared meanOn:#(1) asInt32Tensor]\n",
    "            named:'loss'.\n",
    "\n",
    "learn := graph \n",
    "            fromBlock:[\n",
    "                m2 := graph const: -2.0 asFloatTensor.\n",
    "                gradient :=  m2 @* ((y - y_pred) *\\ x ).\n",
    "                biasGradient :=  (m2 @*(y - y_pred) sumOn:#(1) asInt32Tensor).\n",
    "                learnW:= W descent: gradient rate:learningRate .\n",
    "                learnb := b descent: biasGradient rate:learningRate.]\n",
    "            named:'optim'.\n",
    "\n"
   ]
  },
  {
   "cell_type": "markdown",
   "metadata": {
    "collapsed": true
   },
   "source": [
    "The algorithm will learn the W an b values by repeating the calculation of learnW and learnB 10000 times.\n"
   ]
  },
  {
   "cell_type": "code",
   "execution_count": 23,
   "metadata": {},
   "outputs": [
    {
     "data": {},
     "execution_count": 23,
     "metadata": {},
     "output_type": "execute_result"
    }
   ],
   "source": [
    "session :=TF_Session on: graph.\n",
    "10000 timesRepeat:[\n",
    "    session\n",
    "            runInputs: {x input:0. y input:0 }\n",
    "            values:{ {toy columnAt:1} asFloatTensor. {toy columnAt:2} asFloatTensor}\n",
    "            outputs:{learnW output:0. learnb output:0}]."
   ]
  },
  {
   "cell_type": "code",
   "execution_count": 29,
   "metadata": {},
   "outputs": [
    {
     "data": {},
     "execution_count": 29,
     "metadata": {},
     "output_type": "execute_result"
    }
   ],
   "source": [
    " result :=session\n",
    "            runInputs: {x input:0. y input:0 }\n",
    "            values:{ {toy columnAt:1} asFloatTensor. {toy columnAt:2} asFloatTensor}\n",
    "            outputs:{ y_pred output:0.  }.\n",
    "\n",
    " \n",
    "points :=  DataFrame fromColumns: (Array \n",
    "                                        with: (toy columnAt:1) \n",
    "                                        with: ((result at:1) asNumbers at:1))."
   ]
  },
  {
   "cell_type": "markdown",
   "metadata": {},
   "source": [
    "\"points\" are the predicted values by the algorithm, after the calculation of W and. b"
   ]
  },
  {
   "cell_type": "code",
   "execution_count": 30,
   "metadata": {},
   "outputs": [
    {
     "data": {
      "image/png": "[encoded data removed]"
     },
     "execution_count": 30,
     "metadata": {
      "image/png": {
       "height": 400,
       "width": 640
      }
     },
     "output_type": "execute_result"
    }
   ],
   "source": [
    "b := RTGrapher new.\n",
    "b extent: 300 @ 300.\n",
    "\n",
    "\n",
    "\"data from the Toy dataframe\"\n",
    "ds := RTData new.\n",
    "ds dotShape size:8; color: Color red.\n",
    "ds points: toy.\n",
    "ds x:[:t| t at:1] .\n",
    "ds y: [ :t |t at:2 ].\n",
    "b add: ds.\n",
    "\"data from the model\"\n",
    "\n",
    "ds := RTData new.\n",
    "ds dotShape size:4; color: Color blue.\n",
    "ds points: points.\n",
    "ds x:[:t| t at:1] .\n",
    "ds y: [ :t |t at:2 ].\n",
    "ds connect.\n",
    "b add: ds.\n",
    "\n",
    "self display openInJupyter:b"
   ]
  }
 ],
 "metadata": {
  "kernelspec": {
   "display_name": "Pharo Smalltalk",
   "language": "smalltalk",
   "name": "pharo"
  },
  "language_info": {
   "file_extension": "st",
   "mimetype": "text/plain",
   "name": "Smalltalk",
   "version": "6.0"
  }
 },
 "nbformat": 4,
 "nbformat_minor": 2
}
