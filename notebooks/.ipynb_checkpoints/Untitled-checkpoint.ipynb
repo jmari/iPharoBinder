{
 "cells": [
  {
   "cell_type": "markdown",
   "metadata": {},
   "source": [
    "# Learn Smalltalk with ProfStef"
   ]
  },
  {
   "cell_type": "markdown",
   "metadata": {},
   "source": [
    " \"Hello! I'm Professor Stef. \n",
    "\n",
    "You must want me to help you learn Smalltalk.  Let's talk about printing.\n",
    "It's a Do It which prints the result next to the expression you've selected.\n",
    "For example, select the text below, and click on 'PrintIt':\""
   ]
  },
  {
   "cell_type": "code",
   "execution_count": 14,
   "metadata": {},
   "outputs": [
    {
     "data": {
      "text/plain": [
       "3"
      ]
     },
     "execution_count": 14,
     "metadata": {
      "text/plain": {
       "height": 400,
       "width": 640
      }
     },
     "output_type": "execute_result"
    },
    {
     "data": {
      "text/plain": [
       "22 May 2020"
      ]
     },
     "execution_count": 14,
     "metadata": {
      "text/plain": {
       "height": 400,
       "width": 640
      }
     },
     "output_type": "execute_result"
    },
    {
     "data": {
      "text/plain": [
       "22 May 2020"
      ]
     },
     "execution_count": 14,
     "metadata": {
      "text/plain": {
       "height": 400,
       "width": 640
      }
     },
     "output_type": "execute_result"
    },
    {
     "data": {
      "text/plain": [
       "2020-05-22T00:00:00+02:00"
      ]
     },
     "execution_count": 14,
     "metadata": {
      "text/plain": {
       "height": 400,
       "width": 640
      }
     },
     "output_type": "execute_result"
    }
   ],
   "source": [
    "\n",
    "\n",
    "self print: 1 + 2.\n",
    "\n",
    "\n",
    "self print: Date today.\n",
    "\n",
    "\"The result is selected, so you can erase it using the backspace key. Try it !\"\n",
    "\n",
    "self print: Date today asDate.\n",
    "\n",
    "self print:Date today asDateAndTime.\n",
    "\n"
   ]
  },
  {
   "cell_type": "markdown",
   "metadata": {},
   "source": [
    "Now let's talk about basic objects.\n",
    "\n",
    "1, 2, 100, 2/3 ... are Numbers, and respond to many messages evaluating mathematical expressions.\n",
    "Evaluate these ones:"
   ]
  },
  {
   "cell_type": "code",
   "execution_count": 15,
   "metadata": {},
   "outputs": [
    {
     "data": {
      "text/plain": [
       "2"
      ]
     },
     "execution_count": 15,
     "metadata": {
      "text/plain": {
       "height": 400,
       "width": 640
      }
     },
     "output_type": "execute_result"
    },
    {
     "data": {
      "text/plain": [
       "(1/3)"
      ]
     },
     "execution_count": 15,
     "metadata": {
      "text/plain": {
       "height": 400,
       "width": 640
      }
     },
     "output_type": "execute_result"
    },
    {
     "data": {
      "text/plain": [
       "(17/15)"
      ]
     },
     "execution_count": 15,
     "metadata": {
      "text/plain": {
       "height": 400,
       "width": 640
      }
     },
     "output_type": "execute_result"
    },
    {
     "data": {
      "text/plain": [
       "4"
      ]
     },
     "execution_count": 15,
     "metadata": {
      "text/plain": {
       "height": 400,
       "width": 640
      }
     },
     "output_type": "execute_result"
    },
    {
     "data": {
      "text/plain": [
       "SmallInteger"
      ]
     },
     "execution_count": 15,
     "metadata": {
      "text/plain": {
       "height": 400,
       "width": 640
      }
     },
     "output_type": "execute_result"
    },
    {
     "data": {
      "text/plain": [
       "-1"
      ]
     },
     "execution_count": 15,
     "metadata": {
      "text/plain": {
       "height": 400,
       "width": 640
      }
     },
     "output_type": "execute_result"
    },
    {
     "data": {
      "text/plain": [
       "1"
      ]
     },
     "execution_count": 15,
     "metadata": {
      "text/plain": {
       "height": 400,
       "width": 640
      }
     },
     "output_type": "execute_result"
    },
    {
     "data": {
      "text/plain": [
       "false"
      ]
     },
     "execution_count": 15,
     "metadata": {
      "text/plain": {
       "height": 400,
       "width": 640
      }
     },
     "output_type": "execute_result"
    }
   ],
   "source": [
    "\n",
    "\n",
    "self print: 2.\n",
    "\n",
    "self print:(1/3).\n",
    "\n",
    "self print: (1/3) + (4/5).\n",
    "\n",
    "self print: (18/5) rounded.\n",
    "\n",
    "self print: 1 class.\n",
    "\n",
    "self print: 1 negated.\n",
    "\n",
    "self print: 1 negated negated.\n",
    "\n",
    "self print: (1 + 3) odd."
   ]
  },
  {
   "cell_type": "markdown",
   "metadata": {},
   "source": [
    "A String is a collection of characters. Use single quotes to create a String object. Print these expressions:"
   ]
  },
  {
   "cell_type": "code",
   "execution_count": 17,
   "metadata": {},
   "outputs": [
    {
     "data": {
      "text/html": [
       "<pre>ProfStef</pre>"
      ]
     },
     "execution_count": 17,
     "metadata": {
      "text/html": {
       "height": 400,
       "width": 640
      }
     },
     "output_type": "execute_result"
    },
    {
     "data": {
      "text/plain": [
       "8"
      ]
     },
     "execution_count": 17,
     "metadata": {
      "text/plain": {
       "height": 400,
       "width": 640
      }
     },
     "output_type": "execute_result"
    },
    {
     "data": {
      "text/html": [
       "<pre>ABC</pre>"
      ]
     },
     "execution_count": 17,
     "metadata": {
      "text/html": {
       "height": 400,
       "width": 640
      }
     },
     "output_type": "execute_result"
    },
    {
     "data": {
      "text/html": [
       "<pre>dlroW olleH</pre>"
      ]
     },
     "execution_count": 17,
     "metadata": {
      "text/html": {
       "height": 400,
       "width": 640
      }
     },
     "output_type": "execute_result"
    },
    {
     "data": {
      "text/plain": [
       "P"
      ]
     },
     "execution_count": 17,
     "metadata": {
      "text/plain": {
       "height": 400,
       "width": 640
      }
     },
     "output_type": "execute_result"
    },
    {
     "data": {
      "text/html": [
       "<pre>ProfStef is cool</pre>"
      ]
     },
     "execution_count": 17,
     "metadata": {
      "text/html": {
       "height": 400,
       "width": 640
      }
     },
     "output_type": "execute_result"
    }
   ],
   "source": [
    "self print:'ProfStef'.\n",
    "\n",
    "self print:'ProfStef' size.\n",
    "\n",
    "self print:'abc' asUppercase.\n",
    "\n",
    "self print:'Hello World' reversed. \n",
    "\n",
    "\"You can access each character using at: message\"\n",
    "\n",
    "self print: ('ProfStef' at: 1).\n",
    "\n",
    "\"String concatenation uses the comma operator:\"\n",
    "\n",
    "self print: 'ProfStef', ' is cool'."
   ]
  },
  {
   "cell_type": "markdown",
   "metadata": {},
   "source": [
    "Print command prints collections formatted as a table, if you want to print it as a string, use asString.\n",
    "Literal arrays are created at parse time:"
   ]
  },
  {
   "cell_type": "code",
   "execution_count": 22,
   "metadata": {},
   "outputs": [
    {
     "data": {
      "text/html": [
       "<pre>#(1 2 3)</pre>"
      ]
     },
     "execution_count": 22,
     "metadata": {
      "text/html": {
       "height": 400,
       "width": 640
      }
     },
     "output_type": "execute_result"
    },
    {
     "data": {
      "text/html": [
       "<table>\r",
       "<tr><th>1</th><tr><td>2</td></tr><tr><td>3</td></tr><tr><td>4</td><td>5</td><td>6</td></tr></table>"
      ]
     },
     "execution_count": 22,
     "metadata": {
      "text/html": {
       "height": 400,
       "width": 640
      }
     },
     "output_type": "execute_result"
    },
    {
     "data": {
      "text/plain": [
       "false"
      ]
     },
     "execution_count": 22,
     "metadata": {
      "text/plain": {
       "height": 400,
       "width": 640
      }
     },
     "output_type": "execute_result"
    },
    {
     "data": {
      "text/plain": [
       "1"
      ]
     },
     "execution_count": 22,
     "metadata": {
      "text/plain": {
       "height": 400,
       "width": 640
      }
     },
     "output_type": "execute_result"
    },
    {
     "data": {
      "text/html": [
       "<table>\r",
       "<tr><th>h</th><th>e</th><th>l</th><th>l</th><th>o</th><tr><td>S</td><td>m</td><td>a</td><td>l</td><td>l</td><td>t</td><td>a</td><td>l</td><td>k</td></tr></table>"
      ]
     },
     "execution_count": 22,
     "metadata": {
      "text/html": {
       "height": 400,
       "width": 640
      }
     },
     "output_type": "execute_result"
    }
   ],
   "source": [
    "self print:#(1 2 3) asString.\n",
    "\n",
    "self print: #( 1 2 3 #(4 5 6)) .\n",
    "\n",
    "self print: #(1 2 4) isEmpty.\n",
    "\n",
    "self print: #(1 2 3) first.\n",
    "\n",
    "self print: (#('hello' 'Javascript') at: 2 put: 'Smalltalk'; yourself)."
   ]
  },
  {
   "cell_type": "markdown",
   "metadata": {},
   "source": [
    "Dynamic Arrays are created at execution time:"
   ]
  },
  {
   "cell_type": "code",
   "execution_count": 23,
   "metadata": {},
   "outputs": [
    {
     "data": {
      "text/html": [
       "<pre>#(5 36)</pre>"
      ]
     },
     "execution_count": 23,
     "metadata": {
      "text/html": {
       "height": 400,
       "width": 640
      }
     },
     "output_type": "execute_result"
    },
    {
     "data": {
      "text/plain": [
       "3"
      ]
     },
     "execution_count": 23,
     "metadata": {
      "text/plain": {
       "height": 400,
       "width": 640
      }
     },
     "output_type": "execute_result"
    }
   ],
   "source": [
    "self print:{ (2+3) . (6*6) } asString.\n",
    "\n",
    "self print:{ (2+3) . (6*6) . 'hello', ' Stef'} size."
   ]
  },
  {
   "cell_type": "code",
   "execution_count": null,
   "metadata": {},
   "outputs": [],
   "source": []
  }
 ],
 "metadata": {
  "kernelspec": {
   "display_name": "Pharo Smalltalk",
   "language": "smalltalk",
   "name": "pharo"
  },
  "language_info": {
   "file_extension": "st",
   "mimetype": "text/plain",
   "name": "Smalltalk",
   "version": "8.0"
  }
 },
 "nbformat": 4,
 "nbformat_minor": 2
}
