{
 "cells": [
  {
   "cell_type": "markdown",
   "metadata": {},
   "source": [
    "<H1>Simple Widget Introduction</H1>\n",
    "\n",
    "<H2>What are widgets?</H2>\n",
    "\n",
    "Widgets are eventful python objects that have a representation in the browser, often as a control like a slider, textbox, etc.\n",
    "\n",
    "<H2>What can they be used for?</H2>\n",
    "\n",
    "You can use widgets to build interactive GUIs for your notebooks.\n",
    "You can also use widgets to synchronize stateful and stateless information between Python and JavaScript.\n",
    "<H2>How are they implemented in the Smalltalk Kernel?</H2>\n",
    "Widgets have their own display representation which allows them to be displayed using JupyterTalk display framework. self widgetsFactory is the factory object that helps you to create instances of widgets. Widgets are displayed inside the output area below the code cell. Clearing cell output will also remove the widget.<br/>\n",
    "Lat's create many Sliders (integer, float) and display it.  \n"
   ]
  },
  {
   "cell_type": "code",
   "execution_count": 1,
   "metadata": {},
   "outputs": [
    {
     "data": {
      "text/html": [
       "<pre>an IPWidget</pre>"
      ]
     },
     "execution_count": 1,
     "metadata": {
      "text/html": {
       "height": 400,
       "width": 640
      }
     },
     "output_type": "execute_result"
    }
   ],
   "source": [
    "widget:=self widgetsFactory intSlider\n",
    "                                value:7;\n",
    "                                min:0;\n",
    "                                max:10;\n",
    "                                step:1;\n",
    "                                description:'Test';\n",
    "                                disabled:false;\n",
    "                                continuousUpdate:false;\n",
    "                                orientation:'horizontal';\n",
    "                                readout:true;\n",
    "                                readoutFormat:'d'.\n"
   ]
  },
  {
   "cell_type": "code",
   "execution_count": 3,
   "metadata": {},
   "outputs": [
    {
     "data": {
      "application/vnd.jupyter.widget-view+json": {
       "model_id": "01160B23DB3D0D00B964B2000C038273",
       "version_major": 2,
       "version_minor": 0
      }
     },
     "execution_count": 3,
     "metadata": {
      "application/vnd.jupyter.widget-view+json": {
       "height": 400,
       "width": 640
      }
     },
     "output_type": "execute_result"
    }
   ],
   "source": [
    "self display openInJupyter:widget"
   ]
  },
  {
   "cell_type": "code",
   "execution_count": 4,
   "metadata": {},
   "outputs": [
    {
     "data": {
      "text/html": [
       "<pre>an IPWidget</pre>"
      ]
     },
     "execution_count": 4,
     "metadata": {
      "text/html": {
       "height": 400,
       "width": 640
      }
     },
     "output_type": "execute_result"
    }
   ],
   "source": [
    "widget:=self widgetsFactory floatSlider\n",
    "                                value:7.5;\n",
    "                                min:0;\n",
    "                                max:10.0;\n",
    "                                step:0.1;\n",
    "                                description:'Test';\n",
    "                                disabled:false;\n",
    "                                continuousUpdate:false;\n",
    "                                orientation:'horizontal';\n",
    "                                readout:true;\n",
    "                                readoutFormat:'.1f'."
   ]
  },
  {
   "cell_type": "code",
   "execution_count": 5,
   "metadata": {},
   "outputs": [
    {
     "data": {
      "application/vnd.jupyter.widget-view+json": {
       "model_id": "1EDFB623DB3D0D00B984D1820C038273",
       "version_major": 2,
       "version_minor": 0
      }
     },
     "execution_count": 5,
     "metadata": {
      "application/vnd.jupyter.widget-view+json": {
       "height": 400,
       "width": 640
      }
     },
     "output_type": "execute_result"
    }
   ],
   "source": [
    "self display openInJupyter:widget."
   ]
  },
  {
   "cell_type": "markdown",
   "metadata": {},
   "source": [
    "Changing a property (orientation) will automatically update the view in the client."
   ]
  },
  {
   "cell_type": "code",
   "execution_count": 6,
   "metadata": {},
   "outputs": [
    {
     "data": {
      "text/html": [
       "<pre>an IPWidget</pre>"
      ]
     },
     "execution_count": 6,
     "metadata": {
      "text/html": {
       "height": 400,
       "width": 640
      }
     },
     "output_type": "execute_result"
    }
   ],
   "source": [
    "widget orientation:#vertical"
   ]
  },
  {
   "cell_type": "markdown",
   "metadata": {},
   "source": [
    "Displaying the same widget many times, all the views share the same model representing its state."
   ]
  },
  {
   "cell_type": "code",
   "execution_count": 7,
   "metadata": {},
   "outputs": [
    {
     "data": {
      "application/vnd.jupyter.widget-view+json": {
       "model_id": "1EDFB623DB3D0D00B984D1820C038273",
       "version_major": 2,
       "version_minor": 0
      }
     },
     "execution_count": 7,
     "metadata": {
      "application/vnd.jupyter.widget-view+json": {
       "height": 400,
       "width": 640
      }
     },
     "output_type": "execute_result"
    }
   ],
   "source": [
    "self display openInJupyter:widget."
   ]
  },
  {
   "cell_type": "code",
   "execution_count": 8,
   "metadata": {},
   "outputs": [
    {
     "data": {
      "text/html": [
       "<pre>an IPWidget</pre>"
      ]
     },
     "execution_count": 8,
     "metadata": {
      "text/html": {
       "height": 400,
       "width": 640
      }
     },
     "output_type": "execute_result"
    }
   ],
   "source": [
    "widget orientation:#horizontal"
   ]
  },
  {
   "cell_type": "markdown",
   "metadata": {},
   "source": [
    "<H2>Widget List</H2>\n",
    "Take a look to the IPWidgetFactory class methods. Let's try some of them...  "
   ]
  },
  {
   "cell_type": "code",
   "execution_count": 9,
   "metadata": {},
   "outputs": [
    {
     "data": {
      "text/html": [
       "<pre>#('radioButtons' 'intRangeSlider' 'select' 'button' 'hBox' 'link' 'floatProgress' 'progressStyle' 'accordion' 'sliderStyle' 'buttonStyle' 'floatLogSlider' 'video' 'boundedFloatText' 'dropdown' 'floatText' 'descriptionStyle' 'toggleButton' 'floatRangeSlider' 'layout' 'controller' 'intSlider' 'label' 'colorPicker' 'image' 'box' 'selectionRangeSlider' 'selectMultiple' 'selectionSlider' 'controllerAxis' 'openCommFor:' 'play' 'controllerButton' 'vBox' 'toggleButtonsStyle' 'htmlMath' 'intText' 'text' 'toggleButtons' 'boundedIntText' 'tab' 'intProgress' 'valid' 'datePicker' 'floatSlider' 'html' 'password' 'gridBox' 'output' 'checkbox' 'directionalLink' 'textarea')</pre>"
      ]
     },
     "execution_count": 9,
     "metadata": {
      "text/html": {
       "height": 400,
       "width": 640
      }
     },
     "output_type": "execute_result"
    }
   ],
   "source": [
    "IPWidgetFactory methods collect:[:m|m selector asString]"
   ]
  },
  {
   "cell_type": "markdown",
   "metadata": {},
   "source": [
    "<h2>Numeric widgets</h2>\n",
    "<H3>IntRangeSlider</h3>"
   ]
  },
  {
   "cell_type": "code",
   "execution_count": 10,
   "metadata": {},
   "outputs": [
    {
     "data": {
      "application/vnd.jupyter.widget-view+json": {
       "model_id": "71677124DB3D0D00B9B665A30C038273",
       "version_major": 2,
       "version_minor": 0
      }
     },
     "execution_count": 10,
     "metadata": {
      "application/vnd.jupyter.widget-view+json": {
       "height": 400,
       "width": 640
      }
     },
     "output_type": "execute_result"
    }
   ],
   "source": [
    "widget:=self widgetsFactory intRangeSlider\n",
    "                                min:0;\n",
    "                                max:10;\n",
    "                                value:{5. 7.};\n",
    "                                step:1;\n",
    "                                description:'Test';\n",
    "                                disabled:false;\n",
    "                                continuousUpdate:false;\n",
    "                                orientation:'horizontal';\n",
    "                                readout:true;\n",
    "                                readoutFormat:'d'.\n",
    "self display openInJupyter:widget"
   ]
  },
  {
   "cell_type": "markdown",
   "metadata": {},
   "source": [
    "<h3>IntProgress</h3>"
   ]
  },
  {
   "cell_type": "code",
   "execution_count": 11,
   "metadata": {},
   "outputs": [
    {
     "data": {
      "application/vnd.jupyter.widget-view+json": {
       "model_id": "22C2EB24DB3D0D00B9CAB5440C038273",
       "version_major": 2,
       "version_minor": 0
      }
     },
     "execution_count": 11,
     "metadata": {
      "application/vnd.jupyter.widget-view+json": {
       "height": 400,
       "width": 640
      }
     },
     "output_type": "execute_result"
    }
   ],
   "source": [
    "widget:=self widgetsFactory intProgress\n",
    "                                value:7;\n",
    "                                min:0;\n",
    "                                max:100;\n",
    "                                step:1;\n",
    "                                description:'Loading:';\n",
    "                                barStyle:'success';\n",
    "                                orientation:'horizontal'.\n",
    "self display openInJupyter:widget"
   ]
  },
  {
   "cell_type": "markdown",
   "metadata": {},
   "source": [
    "<H3>FloatLogSlider</h3>\n",
    "\n",
    "The FloatLogSlider has a log scale, which makes it easy to have a slider that covers a wide range of positive magnitudes. The min and max refer to the minimum and maximum exponents of the base, and the value refers to the actual value of the slider."
   ]
  },
  {
   "cell_type": "code",
   "execution_count": 14,
   "metadata": {},
   "outputs": [
    {
     "data": {
      "application/vnd.jupyter.widget-view+json": {
       "model_id": "25965625DB3D0D00B9F3CBD70C038273",
       "version_major": 2,
       "version_minor": 0
      }
     },
     "execution_count": 14,
     "metadata": {
      "application/vnd.jupyter.widget-view+json": {
       "height": 400,
       "width": 640
      }
     },
     "output_type": "execute_result"
    }
   ],
   "source": [
    "widget:=self widgetsFactory floatLogSlider\n",
    "                                    value:10;\n",
    "                                    base:10;\n",
    "                                    min:-10; \" max exponent of base\"\n",
    "                                    max:10; \" min exponent of base\"\n",
    "                                    step:0.2; \" exponent step\"\n",
    "                                    description:'Log Slider'.\n",
    "self display openInJupyter:widget"
   ]
  },
  {
   "cell_type": "code",
   "execution_count": 16,
   "metadata": {},
   "outputs": [
    {
     "data": {
      "application/vnd.jupyter.widget-view+json": {
       "model_id": "D5614227DB3D0D00BA0B12BF0C038273",
       "version_major": 2,
       "version_minor": 0
      }
     },
     "execution_count": 16,
     "metadata": {
      "application/vnd.jupyter.widget-view+json": {
       "height": 400,
       "width": 640
      }
     },
     "output_type": "execute_result"
    }
   ],
   "source": [
    "widget:=self widgetsFactory floatProgress\n",
    "                                value:7.5;\n",
    "                                min:0;\n",
    "                                max:10;\n",
    "                                description:'Loading:';\n",
    "                                barStyle:'info';\n",
    "                                orientation:'horizontal'.\n",
    "self display openInJupyter:widget"
   ]
  },
  {
   "cell_type": "markdown",
   "metadata": {},
   "source": [
    "<H3>BoundedIntText</h3>"
   ]
  },
  {
   "cell_type": "code",
   "execution_count": 18,
   "metadata": {},
   "outputs": [
    {
     "data": {
      "application/vnd.jupyter.widget-view+json": {
       "model_id": "1FEB2428DB3D0D00BA2A06980C038273",
       "version_major": 2,
       "version_minor": 0
      }
     },
     "execution_count": 18,
     "metadata": {
      "application/vnd.jupyter.widget-view+json": {
       "height": 400,
       "width": 640
      }
     },
     "output_type": "execute_result"
    }
   ],
   "source": [
    "widget:=self widgetsFactory boundedIntText\n",
    "                                value:7;\n",
    "                                min:0;\n",
    "                                max:10;\n",
    "                                step:1;\n",
    "                                description:'Text:'.\n",
    "self display openInJupyter:widget"
   ]
  },
  {
   "cell_type": "markdown",
   "metadata": {},
   "source": [
    "<H3>BoundedFloatText</h3>"
   ]
  },
  {
   "cell_type": "code",
   "execution_count": 19,
   "metadata": {},
   "outputs": [
    {
     "data": {
      "application/vnd.jupyter.widget-view+json": {
       "model_id": "40505028DB3D0D00BA378CB00C038273",
       "version_major": 2,
       "version_minor": 0
      }
     },
     "execution_count": 19,
     "metadata": {
      "application/vnd.jupyter.widget-view+json": {
       "height": 400,
       "width": 640
      }
     },
     "output_type": "execute_result"
    }
   ],
   "source": [
    "widget:=self widgetsFactory boundedFloatText\n",
    "                                value:7.5;\n",
    "                                min:0;\n",
    "                                max:10;\n",
    "                                step:0.5;\n",
    "                                description:'Text:'.\n",
    "self display openInJupyter:widget"
   ]
  },
  {
   "cell_type": "markdown",
   "metadata": {},
   "source": [
    "<H3>IntText</h3>"
   ]
  },
  {
   "cell_type": "code",
   "execution_count": 20,
   "metadata": {},
   "outputs": [
    {
     "data": {
      "application/vnd.jupyter.widget-view+json": {
       "model_id": "75F28E28DB3D0D00BA4471B10C038273",
       "version_major": 2,
       "version_minor": 0
      }
     },
     "execution_count": 20,
     "metadata": {
      "application/vnd.jupyter.widget-view+json": {
       "height": 400,
       "width": 640
      }
     },
     "output_type": "execute_result"
    }
   ],
   "source": [
    "widget:=self widgetsFactory intText\n",
    "                                value:7;\n",
    "                                description:'Text:'.\n",
    "self display openInJupyter:widget"
   ]
  },
  {
   "cell_type": "markdown",
   "metadata": {},
   "source": [
    "<H3>FloatText</h3>"
   ]
  },
  {
   "cell_type": "code",
   "execution_count": 21,
   "metadata": {},
   "outputs": [
    {
     "data": {
      "application/vnd.jupyter.widget-view+json": {
       "model_id": "DEC3BD28DB3D0D00BA4E40780C038273",
       "version_major": 2,
       "version_minor": 0
      }
     },
     "execution_count": 21,
     "metadata": {
      "application/vnd.jupyter.widget-view+json": {
       "height": 400,
       "width": 640
      }
     },
     "output_type": "execute_result"
    }
   ],
   "source": [
    "widget:=self widgetsFactory floatText\n",
    "                                value:7.5;\n",
    "                                description:'Text:'.\n",
    "self display openInJupyter:widget"
   ]
  },
  {
   "cell_type": "markdown",
   "metadata": {},
   "source": [
    "<h2>Boolean widgets</h2>\n",
    "\n",
    "There are three widgets that are designed to display a boolean value.\n",
    "<h3>ToggleButton</h3>"
   ]
  },
  {
   "cell_type": "code",
   "execution_count": 22,
   "metadata": {},
   "outputs": [
    {
     "data": {
      "application/vnd.jupyter.widget-view+json": {
       "model_id": "D8A6F129DB3D0D00BA5E91D10C038273",
       "version_major": 2,
       "version_minor": 0
      }
     },
     "execution_count": 22,
     "metadata": {
      "application/vnd.jupyter.widget-view+json": {
       "height": 400,
       "width": 640
      }
     },
     "output_type": "execute_result"
    }
   ],
   "source": [
    "\n",
    "widget:=self widgetsFactory toggleButton\n",
    "    value:false;\n",
    "    description:'Click me';\n",
    "    disabled:false;\n",
    "    buttonStyle:''; \" 'success', 'info', 'warning', 'danger' or ''\"\n",
    "    tooltip:'Description';\n",
    "    icon:'check'.\n",
    "self display openInJupyter:widget"
   ]
  },
  {
   "cell_type": "markdown",
   "metadata": {},
   "source": [
    "<h3>Checkbox</h3>"
   ]
  },
  {
   "cell_type": "code",
   "execution_count": 23,
   "metadata": {},
   "outputs": [
    {
     "data": {
      "application/vnd.jupyter.widget-view+json": {
       "model_id": "BDCABD2ADB3D0D00BA76515F0C038273",
       "version_major": 2,
       "version_minor": 0
      }
     },
     "execution_count": 23,
     "metadata": {
      "application/vnd.jupyter.widget-view+json": {
       "height": 400,
       "width": 640
      }
     },
     "output_type": "execute_result"
    }
   ],
   "source": [
    "widget:=self widgetsFactory checkbox\n",
    "    value:false;\n",
    "    description:'Check me';\n",
    "    disabled:false.\n",
    "self display openInJupyter:widget"
   ]
  },
  {
   "cell_type": "markdown",
   "metadata": {},
   "source": [
    "<h3>Valid</h3>"
   ]
  },
  {
   "cell_type": "code",
   "execution_count": 24,
   "metadata": {},
   "outputs": [
    {
     "data": {
      "application/vnd.jupyter.widget-view+json": {
       "model_id": "B801182BDB3D0D00BA83E8830C038273",
       "version_major": 2,
       "version_minor": 0
      }
     },
     "execution_count": 24,
     "metadata": {
      "application/vnd.jupyter.widget-view+json": {
       "height": 400,
       "width": 640
      }
     },
     "output_type": "execute_result"
    }
   ],
   "source": [
    "widget:=self widgetsFactory valid\n",
    "    value:false;\n",
    "    description:'Valid!'.\n",
    "self display openInJupyter:widget"
   ]
  },
  {
   "cell_type": "markdown",
   "metadata": {},
   "source": [
    "<h2>Selection widgets</h2>\n",
    "\n",
    "There are several widgets that can be used to display single selection lists, and two that can be used to select multiple values. All inherit from the same base class. You can specify the enumeration of selectable options by passing a list (options are either (label, value) pairs, or simply values for which the labels are derived by calling str).\n",
    "\n",
    "<h3>Dropdown</h3>"
   ]
  },
  {
   "cell_type": "code",
   "execution_count": 25,
   "metadata": {},
   "outputs": [
    {
     "data": {
      "application/vnd.jupyter.widget-view+json": {
       "model_id": "3C705A2BDB3D0D00BA8DD4E60C038273",
       "version_major": 2,
       "version_minor": 0
      }
     },
     "execution_count": 25,
     "metadata": {
      "application/vnd.jupyter.widget-view+json": {
       "height": 400,
       "width": 640
      }
     },
     "output_type": "execute_result"
    }
   ],
   "source": [
    "widget:=self widgetsFactory dropdown\n",
    "    optionsLabels: {'1'. '2'. '3'};\n",
    "    index:1;\n",
    "    description:'Number:';\n",
    "    disabled:false.\n",
    "    \n",
    "self display openInJupyter: widget"
   ]
  },
  {
   "cell_type": "code",
   "execution_count": 26,
   "metadata": {},
   "outputs": [
    {
     "data": {
      "application/vnd.jupyter.widget-view+json": {
       "model_id": "EC4BB72BDB3D0D00BA99A21E0C038273",
       "version_major": 2,
       "version_minor": 0
      }
     },
     "execution_count": 26,
     "metadata": {
      "application/vnd.jupyter.widget-view+json": {
       "height": 400,
       "width": 640
      }
     },
     "output_type": "execute_result"
    }
   ],
   "source": [
    "widget:=self widgetsFactory dropdown\n",
    "    options: {'1'->1. '22'->2. '3'->3} asDictionary;\n",
    "    index:2;\n",
    "    description:'Number:';\n",
    "    disabled:false.\n",
    "    \n",
    "self display openInJupyter: widget"
   ]
  },
  {
   "cell_type": "code",
   "execution_count": 27,
   "metadata": {},
   "outputs": [
    {
     "data": {
      "text/html": [
       "<pre>a Dictionary('1'->1 '22'->2 '3'->3 )</pre>"
      ]
     },
     "execution_count": 27,
     "metadata": {
      "text/html": {
       "height": 400,
       "width": 640
      }
     },
     "output_type": "execute_result"
    }
   ],
   "source": [
    "widget options."
   ]
  },
  {
   "cell_type": "markdown",
   "metadata": {},
   "source": [
    "<h3>RadioButtons</h2>"
   ]
  },
  {
   "cell_type": "code",
   "execution_count": 28,
   "metadata": {},
   "outputs": [
    {
     "data": {
      "application/vnd.jupyter.widget-view+json": {
       "model_id": "7985342CDB3D0D00BAAC218D0C038273",
       "version_major": 2,
       "version_minor": 0
      }
     },
     "execution_count": 28,
     "metadata": {
      "application/vnd.jupyter.widget-view+json": {
       "height": 400,
       "width": 640
      }
     },
     "output_type": "execute_result"
    }
   ],
   "source": [
    "widget:=self widgetsFactory radioButtons\n",
    "    options: {'pepperoni'. 'pineapple'. 'anchovies'};\n",
    "    label:'pineapple';\n",
    "    description:'Pizza topping:';\n",
    "    disabled:false.\n",
    "\n",
    "self display openInJupyter: widget"
   ]
  },
  {
   "cell_type": "code",
   "execution_count": 29,
   "metadata": {},
   "outputs": [
    {
     "data": {
      "text/html": [
       "<pre>pineapple</pre>"
      ]
     },
     "execution_count": 29,
     "metadata": {
      "text/html": {
       "height": 400,
       "width": 640
      }
     },
     "output_type": "execute_result"
    }
   ],
   "source": [
    "widget label"
   ]
  },
  {
   "cell_type": "markdown",
   "metadata": {},
   "source": [
    "<h3>Select</h3>"
   ]
  },
  {
   "cell_type": "code",
   "execution_count": 30,
   "metadata": {},
   "outputs": [
    {
     "data": {
      "application/vnd.jupyter.widget-view+json": {
       "model_id": "D5A89A2CDB3D0D00BABEFC730C038273",
       "version_major": 2,
       "version_minor": 0
      }
     },
     "execution_count": 30,
     "metadata": {
      "application/vnd.jupyter.widget-view+json": {
       "height": 400,
       "width": 640
      }
     },
     "output_type": "execute_result"
    }
   ],
   "source": [
    "widget:=self widgetsFactory select\n",
    "    options: {'Linux'. 'Windows'. 'OSX'};\n",
    "    label:'OSX';\n",
    "    description:'OS:';\n",
    "    disabled:false.\n",
    "\n",
    "self display openInJupyter: widget"
   ]
  },
  {
   "cell_type": "markdown",
   "metadata": {},
   "source": [
    "<h3>SelectionSlider</h3>"
   ]
  },
  {
   "cell_type": "code",
   "execution_count": 32,
   "metadata": {},
   "outputs": [
    {
     "data": {
      "application/vnd.jupyter.widget-view+json": {
       "model_id": "CFD0842DDB3D0D00BAE172240C038273",
       "version_major": 2,
       "version_minor": 0
      }
     },
     "execution_count": 32,
     "metadata": {
      "application/vnd.jupyter.widget-view+json": {
       "height": 400,
       "width": 640
      }
     },
     "output_type": "execute_result"
    }
   ],
   "source": [
    "widget:=self widgetsFactory selectionSlider\n",
    "    options:{'scrambled'. 'sunny side up'. 'poached'. 'over easy'};\n",
    "    label:'sunny side up';\n",
    "    description:'I like my eggs ...';\n",
    "    disabled:false;\n",
    "    continuousUpdate:false;\n",
    "    orientation:'horizontal';\n",
    "    readout:true.\n",
    "\n",
    "self display openInJupyter: widget"
   ]
  },
  {
   "cell_type": "markdown",
   "metadata": {},
   "source": [
    "<h3>SelectionRangeSlider</h3>"
   ]
  },
  {
   "cell_type": "code",
   "execution_count": 33,
   "metadata": {},
   "outputs": [
    {
     "data": {
      "application/vnd.jupyter.widget-view+json": {
       "model_id": "270E9E2DDB3D0D00BAF033180C038273",
       "version_major": 2,
       "version_minor": 0
      }
     },
     "execution_count": 33,
     "metadata": {
      "application/vnd.jupyter.widget-view+json": {
       "height": 400,
       "width": 640
      }
     },
     "output_type": "execute_result"
    }
   ],
   "source": [
    "\"it doe'snt work yet\"\n",
    "dates := (1 to: 12) collect:[:m| Date year:2015 month:m day:1].\n",
    "options := dates collect:[:d| {d month name. d monthIndex. }].\n",
    "\n",
    "\n",
    "widget:=self widgetsFactory selectionRangeSlider\n",
    "        options:options;\n",
    "        index:{2. 5};\n",
    "        description:'Months (2015)';\n",
    "        disabled:false.\n",
    "\n",
    "self print: widget"
   ]
  },
  {
   "cell_type": "markdown",
   "metadata": {},
   "source": [
    "<h3>ToggleButtons</h3>"
   ]
  },
  {
   "cell_type": "code",
   "execution_count": 34,
   "metadata": {},
   "outputs": [
    {
     "data": {
      "application/vnd.jupyter.widget-view+json": {
       "model_id": "12E7082FDB3D0D00BAFD27960C038273",
       "version_major": 2,
       "version_minor": 0
      }
     },
     "execution_count": 34,
     "metadata": {
      "application/vnd.jupyter.widget-view+json": {
       "height": 400,
       "width": 640
      }
     },
     "output_type": "execute_result"
    }
   ],
   "source": [
    "widget := self widgetsFactory toggleButtons\n",
    "    options:{'Slow'. 'Regular'. 'Fast'};\n",
    "    description:'Speed:';\n",
    "    disabled:false;\n",
    "    buttonStyle:''; \"'success', 'info', 'warning', 'danger' or ''\"\n",
    "    tooltips:{'Description of slow'. 'Description of regular'. 'Description of fast'};\n",
    "    icons:{'check'. 'check'. 'check'}.\n",
    "    \n",
    "self print: widget"
   ]
  },
  {
   "cell_type": "markdown",
   "metadata": {},
   "source": [
    "<h3>SelectMultiple\n",
    "</h3>\n",
    "Multiple values can be selected with shift and/or ctrl (or command) pressed and mouse clicks or arrow keys.\n",
    "\n"
   ]
  },
  {
   "cell_type": "code",
   "execution_count": 35,
   "metadata": {},
   "outputs": [
    {
     "data": {
      "application/vnd.jupyter.widget-view+json": {
       "model_id": "81098C2FDB3D0D00BB173D560C038273",
       "version_major": 2,
       "version_minor": 0
      }
     },
     "execution_count": 35,
     "metadata": {
      "application/vnd.jupyter.widget-view+json": {
       "height": 400,
       "width": 640
      }
     },
     "output_type": "execute_result"
    }
   ],
   "source": [
    "widget := self widgetsFactory selectMultiple\n",
    "    options:{'Apples'. 'Oranges'. 'Pears'};\n",
    "    label:{'Apples'. 'Pears'};\n",
    "    rows:10;\n",
    "    description:'Fruits:';\n",
    "    disabled:false.\n",
    "    \n",
    "self print: widget    "
   ]
  },
  {
   "cell_type": "markdown",
   "metadata": {},
   "source": [
    "<h3>String widgets\n",
    "</h3>\n",
    "There are several widgets that can be used to display a string value. The Text and Textarea widgets accept input. The HTML and HTMLMath widgets display a string as HTML (HTMLMath also renders math). The Label widget can be used to construct a custom control label."
   ]
  },
  {
   "cell_type": "code",
   "execution_count": 36,
   "metadata": {},
   "outputs": [
    {
     "data": {
      "application/vnd.jupyter.widget-view+json": {
       "model_id": "87A3CB2FDB3D0D00BB2410FB0C038273",
       "version_major": 2,
       "version_minor": 0
      }
     },
     "execution_count": 36,
     "metadata": {
      "application/vnd.jupyter.widget-view+json": {
       "height": 400,
       "width": 640
      }
     },
     "output_type": "execute_result"
    }
   ],
   "source": [
    "widget := self widgetsFactory text\n",
    "    value:'Hello World';\n",
    "    placeholder:'Type something';\n",
    "    description:'String:';\n",
    "    disabled:false.\n",
    "    \n",
    "self print:widget"
   ]
  },
  {
   "cell_type": "markdown",
   "metadata": {},
   "source": [
    "<h3>Textarea</h3>"
   ]
  },
  {
   "cell_type": "code",
   "execution_count": 37,
   "metadata": {},
   "outputs": [
    {
     "data": {
      "application/vnd.jupyter.widget-view+json": {
       "model_id": "19E60330DB3D0D00BB30B6E40C038273",
       "version_major": 2,
       "version_minor": 0
      }
     },
     "execution_count": 37,
     "metadata": {
      "application/vnd.jupyter.widget-view+json": {
       "height": 400,
       "width": 640
      }
     },
     "output_type": "execute_result"
    }
   ],
   "source": [
    "widget := self widgetsFactory textarea\n",
    "    value:'Hello World';\n",
    "    placeholder:'Type something';\n",
    "    description:'String:';\n",
    "    disabled:false.\n",
    "    \n",
    "self print:widget"
   ]
  },
  {
   "cell_type": "markdown",
   "metadata": {},
   "source": [
    "<h3>HTML</h3>"
   ]
  },
  {
   "cell_type": "code",
   "execution_count": 38,
   "metadata": {},
   "outputs": [
    {
     "data": {
      "application/vnd.jupyter.widget-view+json": {
       "model_id": "84C53D30DB3D0D00BB3C98FD0C038273",
       "version_major": 2,
       "version_minor": 0
      }
     },
     "execution_count": 38,
     "metadata": {
      "application/vnd.jupyter.widget-view+json": {
       "height": 400,
       "width": 640
      }
     },
     "output_type": "execute_result"
    }
   ],
   "source": [
    "widget := self widgetsFactory html\n",
    "    value:'Hello <b>World</b>';\n",
    "    placeholder:'Type something';\n",
    "    description:'Html:';\n",
    "    disabled:false.\n",
    "    \n",
    "self print:widget"
   ]
  },
  {
   "cell_type": "markdown",
   "metadata": {},
   "source": [
    "<h3>HTMLMath</h3>"
   ]
  },
  {
   "cell_type": "code",
   "execution_count": 39,
   "metadata": {},
   "outputs": [
    {
     "data": {
      "application/vnd.jupyter.widget-view+json": {
       "model_id": "B17E6530DB3D0D00BB48321C0C038273",
       "version_major": 2,
       "version_minor": 0
      }
     },
     "execution_count": 39,
     "metadata": {
      "application/vnd.jupyter.widget-view+json": {
       "height": 400,
       "width": 640
      }
     },
     "output_type": "execute_result"
    }
   ],
   "source": [
    "widget := self widgetsFactory htmlMath\n",
    "    value:'Some math and <i>HTML</i>: \\(x^2\\) and $$\\frac{x+1}{x-1}$$';\n",
    "    placeholder:'Type something';\n",
    "    description:'HtmlMath:';\n",
    "    disabled:false.\n",
    "    \n",
    "self print:widget"
   ]
  },
  {
   "cell_type": "markdown",
   "metadata": {},
   "source": [
    "<h3>Image</h3>"
   ]
  },
  {
   "cell_type": "code",
   "execution_count": 37,
   "metadata": {},
   "outputs": [
    {
     "data": {
      "text/html": [
       "<pre>an IPSession</pre>"
      ]
     },
     "execution_count": 37,
     "metadata": {
      "text/html": {
       "height": 400,
       "width": 640
      }
     },
     "output_type": "execute_result"
    }
   ],
   "source": [
    "\"file = open('images/WidgetArch.png', 'rb')\n",
    "image = file.read()\n",
    "widgets.Image(\n",
    "    value=image,\n",
    "    format='png',\n",
    "    width=300,\n",
    "    height=400,\n",
    ")\""
   ]
  },
  {
   "cell_type": "markdown",
   "metadata": {},
   "source": [
    "<h3>Button</h3>"
   ]
  },
  {
   "cell_type": "code",
   "execution_count": 40,
   "metadata": {},
   "outputs": [
    {
     "data": {
      "application/vnd.jupyter.widget-view+json": {
       "model_id": "8DAEA531DB3D0D00BB54B8970C038273",
       "version_major": 2,
       "version_minor": 0
      }
     },
     "execution_count": 40,
     "metadata": {
      "application/vnd.jupyter.widget-view+json": {
       "height": 400,
       "width": 640
      }
     },
     "output_type": "execute_result"
    }
   ],
   "source": [
    "\n",
    "widget := self widgetsFactory button\n",
    "    description:'Click me';\n",
    "    disabled:false;\n",
    "    buttonStyle:'';  \"'success', 'info', 'warning', 'danger' or ''\"\n",
    "    tooltip:'Click me';\n",
    "    icon:'check'.\n",
    "    \n",
    "self print: widget"
   ]
  },
  {
   "cell_type": "code",
   "execution_count": 41,
   "metadata": {},
   "outputs": [
    {
     "data": {
      "application/vnd.jupyter.widget-view+json": {
       "model_id": "4FD38932DB3D0D00BB6345BA0C038273",
       "version_major": 2,
       "version_minor": 0
      }
     },
     "execution_count": 41,
     "metadata": {
      "application/vnd.jupyter.widget-view+json": {
       "height": 400,
       "width": 640
      }
     },
     "output_type": "execute_result"
    }
   ],
   "source": [
    "\"TODO.Not working yet\"\n",
    "widget := self widgetsFactory datePicker\n",
    "    description:'Pick a Date';\n",
    "    disabled:false.\n",
    "self print: widget"
   ]
  },
  {
   "cell_type": "markdown",
   "metadata": {},
   "source": [
    "<h3>ColorPicker</h3>"
   ]
  },
  {
   "cell_type": "code",
   "execution_count": 42,
   "metadata": {},
   "outputs": [
    {
     "data": {
      "application/vnd.jupyter.widget-view+json": {
       "model_id": "C1113833DB3D0D00BB6D752A0C038273",
       "version_major": 2,
       "version_minor": 0
      }
     },
     "execution_count": 42,
     "metadata": {
      "application/vnd.jupyter.widget-view+json": {
       "height": 400,
       "width": 640
      }
     },
     "output_type": "execute_result"
    }
   ],
   "source": [
    "widget := self widgetsFactory colorPicker\n",
    "    concise:false;\n",
    "    description:'Pick a color';\n",
    "    value:'blue';\n",
    "    disabled:false.\n",
    "self print: widget"
   ]
  },
  {
   "cell_type": "code",
   "execution_count": 41,
   "metadata": {},
   "outputs": [
    {
     "data": {
      "text/html": [
       "<table>\r",
       "<tr><th>description</th><th>_dom_classes</th><th>_model_module</th><th>layout</th><th>disabled</th><th>_view_name</th><th>value</th><th>concise</th><th>_model_module_version</th><th>_model_name</th><th>_view_module</th><th>_view_module_version</th><th>msg_throttle</th><tr><td>Pick a color</td><td>#()</td><td>@jupyter-widgets/controls</td><td>{}</td><td>false</td><td>ColorPickerView</td><td>blue</td><td>false</td><td>~2.1.0</td><td>ColorPickerModel</td><td>@jupyter-widgets/controls</td><td>~2.1.0</td><td>1</td></tr></table>"
      ]
     },
     "execution_count": 41,
     "metadata": {
      "text/html": {
       "height": 400,
       "width": 640
      }
     },
     "output_type": "execute_result"
    }
   ],
   "source": [
    "self display openInJupyter:widget model state"
   ]
  },
  {
   "cell_type": "code",
   "execution_count": 43,
   "metadata": {},
   "outputs": [
    {
     "data": {
      "application/vnd.jupyter.widget-view+json": {
       "model_id": "869EFC33DB3D0D00BB79EFB90C038273",
       "version_major": 2,
       "version_minor": 0
      }
     },
     "execution_count": 43,
     "metadata": {
      "application/vnd.jupyter.widget-view+json": {
       "height": 400,
       "width": 640
      }
     },
     "output_type": "execute_result"
    },
    {
     "data": {
      "application/vnd.jupyter.widget-view+json": {
       "model_id": "4CB9FC33DB3D0D00BB7BCCD50C038273",
       "version_major": 2,
       "version_minor": 0
      }
     },
     "execution_count": 43,
     "metadata": {
      "application/vnd.jupyter.widget-view+json": {
       "height": 400,
       "width": 640
      }
     },
     "output_type": "execute_result"
    }
   ],
   "source": [
    "a := self widgetsFactory floatText.\n",
    "b := self widgetsFactory floatSlider.\n",
    "self display openInJupyter:a. \n",
    "self display openInJupyter:b.\n",
    "b onChangingState:[:event|\n",
    "            a value: event newValue.\n",
    "            widget value: event newValue]\n"
   ]
  },
  {
   "cell_type": "code",
   "execution_count": 44,
   "metadata": {},
   "outputs": [
    {
     "data": {
      "text/html": [
       "<pre>an IPWidget</pre>"
      ]
     },
     "execution_count": 44,
     "metadata": {
      "text/html": {
       "height": 400,
       "width": 640
      }
     },
     "output_type": "execute_result"
    }
   ],
   "source": [
    "\n",
    "a onChangingState:[:e|\n",
    "            b value:e newValue.\n",
    "            widget value: e newValue]"
   ]
  },
  {
   "cell_type": "code",
   "execution_count": 45,
   "metadata": {},
   "outputs": [
    {
     "data": {
      "text/html": [
       "<pre>an IPWidget</pre>"
      ]
     },
     "execution_count": 45,
     "metadata": {
      "text/html": {
       "height": 400,
       "width": 640
      }
     },
     "output_type": "execute_result"
    }
   ],
   "source": [
    "a value:2"
   ]
  },
  {
   "cell_type": "code",
   "execution_count": null,
   "metadata": {},
   "outputs": [],
   "source": []
  }
 ],
 "metadata": {
  "kernelspec": {
   "display_name": "Pharo Smalltalk",
   "language": "smalltalk",
   "name": "pharo"
  },
  "language_info": {
   "file_extension": "st",
   "mimetype": "text/plain",
   "name": "Smalltalk",
   "version": "6.0"
  }
 },
 "nbformat": 4,
 "nbformat_minor": 2
}
